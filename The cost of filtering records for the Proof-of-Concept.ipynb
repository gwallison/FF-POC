{
 "cells": [
  {
   "cell_type": "markdown",
   "metadata": {},
   "source": [
    "# What is lost when intentionally removing  'difficult' data?\n",
    "\n",
    "I believe that the presense of this more difficult data is one of the primary reasons the FracFocus data are rarely used: they are considered too complex to deal with or too dirty to trust.\n",
    "\n",
    "In this Proof-of-Concept version, I intentionally filter data in the raw FracFocus download that requires a lot of assumptions or complex decisions.  \n",
    "While in other versions of this code I have tried to grapple with the complexity and inherent inconsistencies of the whole FracFocus set, I hope to show in this version that filtering much of the difficult data still leaves us with a very useful data set.  However, it is important to investigate to what degree this filtering obscures or biases the actual fracking practice.  \n",
    "\n",
    "In this notebook, I try to show the types and quantities of data that I remove from the raw data to make processing 'simple.'  I try to examine the major sources of filtering: removing 'empty' events, removing events with duplicates, removing chemical records that are poorly identified, and ignoring records in which the carrier is poorly identified."
   ]
  },
  {
   "cell_type": "markdown",
   "metadata": {},
   "source": [
    "### Some terminology\n",
    "What I call 'events' are distinct fracking events that are typically documented by a single disclosure with a list of  chemicals/materials used in the fracturing process (this is separate from the chemicals used to drill the well). These events are identified in the raw data by unique identifier in the UploadKey field.  All records with a given UploadKey will have the same Start and End Dates, location, etc.  If you are familiar with the individual pdf files available at FracFocus.org, each pdf corresponds to one event and one unique UploadKey."
   ]
  },
  {
   "cell_type": "code",
   "execution_count": 42,
   "metadata": {},
   "outputs": [],
   "source": [
    "# preamble\n",
    "import pandas as pd\n",
    "import numpy as np\n",
    "import matplotlib.pyplot as plt\n",
    "%matplotlib inline\n",
    "import seaborn as sns\n",
    "\n",
    "\n",
    "results_dir = './out/'      # for local use\n",
    "#results_dir = '../results/' # for CodeOcean"
   ]
  },
  {
   "cell_type": "code",
   "execution_count": 28,
   "metadata": {},
   "outputs": [],
   "source": [
    "# pull data from the results directory where it is stored as a .csv file\n",
    "# we don't need all the colunms \n",
    "cols = ['UploadKey','date','CASNumber','bgCAS','DQ_code','FFVersion']\n",
    "df = pd.read_csv(results_dir+'full_df.csv') #,usecols=cols) \n",
    "df.date = pd.to_datetime(df.date)  # put date back into datetime format\n",
    "df['year'] = df.date.dt.year\n",
    "#df.columns"
   ]
  },
  {
   "cell_type": "markdown",
   "metadata": {},
   "source": [
    "# Removing 'empty' events"
   ]
  },
  {
   "cell_type": "markdown",
   "metadata": {},
   "source": [
    "## Background\n",
    "Although FracFocus began recording chemical disclosures in 2011 and making them available through the pdf files that year, most of the chemical records for the events in these early years are not included in the bulk download.  Instead, placeholder records are used for those events.  Included in these placeholders are location data, dates, and often drilling depth and water volumes used but no chemical information.\n",
    "\n",
    "I flag these events and they are removed from analysis.\n"
   ]
  },
  {
   "cell_type": "markdown",
   "metadata": {},
   "source": [
    "## Number of empty events"
   ]
  },
  {
   "cell_type": "code",
   "execution_count": 37,
   "metadata": {},
   "outputs": [
    {
     "name": "stdout",
     "output_type": "stream",
     "text": [
      "Total number of events: 159495, number of empty: 43900\n"
     ]
    }
   ],
   "source": [
    "gb = df[(df.year>2009)&(df.year<2020)].groupby('UploadKey',as_index=False)['date','year','DQ_code','FFVersion'].first() # only need one record from each event\n",
    "gb['empty_event'] = gb.DQ_code.str.contains('1') # DQ_code of '1' indicates no chemical records\n",
    "gb['not_empty'] = ~gb.empty_event\n",
    "print(f'Total number of events: {len(gb)}, number of empty: {gb.empty_event.sum()}')"
   ]
  },
  {
   "cell_type": "markdown",
   "metadata": {},
   "source": [
    "## Empty events are largely from 2011 to 2013"
   ]
  },
  {
   "cell_type": "code",
   "execution_count": 38,
   "metadata": {},
   "outputs": [
    {
     "data": {
      "image/png": "[encoded data removed]",
      "text/plain": [
       "<Figure size 432x288 with 1 Axes>"
      ]
     },
     "metadata": {
      "needs_background": "light"
     },
     "output_type": "display_data"
    }
   ],
   "source": [
    "gb2 = gb.groupby('year',as_index=False)['empty_event','not_empty'].sum()\n",
    "gb2.plot.bar(x='year',y=['not_empty','empty_event'],stacked=True,title=\"Number of Fracking events per year\");\n"
   ]
  },
  {
   "cell_type": "markdown",
   "metadata": {},
   "source": [
    "## ... and are FFVersion 1"
   ]
  },
  {
   "cell_type": "code",
   "execution_count": 41,
   "metadata": {},
   "outputs": [
    {
     "name": "stdout",
     "output_type": "stream",
     "text": [
      "Number of empty events that are:\n",
      "  FFVersion 1: 43816\n",
      "  FFVersion 2: 6\n",
      "  FFVersion 3: 78\n"
     ]
    }
   ],
   "source": [
    "print('Number of empty events that are:')\n",
    "for i in [1,2,3]:\n",
    "    print(f'  FFVersion {i}: {gb[gb.FFVersion==i].empty_event.sum()}')"
   ]
  },
  {
   "cell_type": "markdown",
   "metadata": {},
   "source": [
    "## Possible improvements\n",
    "\n",
    "The technical manager of FracFocus communicated to me that the chemical data in FFVersion 1 is of lower quality than more recent versions.  That lower quality was the reason they chose to not include it with the bulk download.  Nevertheless, those data cover an important 'boom' time in the fracking industry and may be of interest to many researchers. \n",
    "\n",
    "Therefore, be aware that data for many of these early events was scraped from pdfs (through tremdendous effort) by the SkyTruth team during 2011-2013 and are still available at their [website](http://frack.skytruth.org/fracking-chemical-database/frack-chemical-data-download).  In other versions of my code, I have integrated these data. However, for simplicity sake in this Proof-of-Concept version, we process only what is presented by FracFocus in their official bulk download.\n",
    "\n"
   ]
  },
  {
   "cell_type": "markdown",
   "metadata": {},
   "source": [
    "# Removing duplicated events"
   ]
  },
  {
   "cell_type": "markdown",
   "metadata": {},
   "source": [
    "## Background\n",
    "For a given APINumber, there may be multiple fracking events in the raw data.  Some of these are events that occur on different dates, indicating actual multiple fracks.  However many duplicates in the raw data have the same date.  Because there is more than one possible cause for this duplication (e.g., operators *adding* to a previous disclosure, operators *replacing* a previous disclosure) and no indication in the data which cause, I choose to filter out ALL disclosures related to duplicated events.  "
   ]
  },
  {
   "cell_type": "code",
   "execution_count": 63,
   "metadata": {},
   "outputs": [
    {
     "name": "stdout",
     "output_type": "stream",
     "text": [
      "Number of unique API/dates: 156765\n",
      "Number of unique API/dates involved with duplication: 2267\n",
      "Total number of duplicates: 4700\n"
     ]
    }
   ],
   "source": [
    "gb = df[(df.year>2009)&(df.year<2020)].groupby(['date','api10'],as_index=False)['DQ_code'].first() # only need one record from each event\n",
    "print(f'Number of unique API/dates: {len(gb)}')\n",
    "print(f'Number of unique API/dates involved with duplication: {len(gb[gb.DQ_code.str.contains(\"2\")])}')\n",
    "\n",
    "gb = df[(df.year>2009)&(df.year<2020)].groupby('UploadKey',as_index=False)['year','DQ_code','FFVersion',\n",
    "                                                          'bgOperatorName','bgSupplier'].first() # only need one record from each event\n",
    "gb['dup_event'] = gb.DQ_code.str.contains('2') # DQ_code of '2' indicates one of a duplicated event\n",
    "gb['not_duplicated'] = ~gb.dup_event\n",
    "print(f'Total number of duplicates: {gb.dup_event.sum()}')\n",
    "\n"
   ]
  },
  {
   "cell_type": "code",
   "execution_count": 50,
   "metadata": {},
   "outputs": [
    {
     "data": {
      "image/png": "[encoded data removed]",
      "text/plain": [
       "<Figure size 432x288 with 1 Axes>"
      ]
     },
     "metadata": {
      "needs_background": "light"
     },
     "output_type": "display_data"
    }
   ],
   "source": [
    "gb2 = gb.groupby('year',as_index=False)['dup_event','not_duplicated'].sum()\n",
    "gb2.plot.bar(x='year',y=['not_duplicated','dup_event'],stacked=True,title=\"Number of Fracking events per year\");\n"
   ]
  },
  {
   "cell_type": "markdown",
   "metadata": {},
   "source": [
    "## are some Operators more likely to submit duplicates?\n",
    "which might indicate that my filtered set is biased..."
   ]
  },
  {
   "cell_type": "code",
   "execution_count": 56,
   "metadata": {},
   "outputs": [
    {
     "data": {
      "text/html": [
       "<div>\n",
       "<style scoped>\n",
       "    .dataframe tbody tr th:only-of-type {\n",
       "        vertical-align: middle;\n",
       "    }\n",
       "\n",
       "    .dataframe tbody tr th {\n",
       "        vertical-align: top;\n",
       "    }\n",
       "\n",
       "    .dataframe thead th {\n",
       "        text-align: right;\n",
       "    }\n",
       "</style>\n",
       "<table border=\"1\" class=\"dataframe\">\n",
       "  <thead>\n",
       "    <tr style=\"text-align: right;\">\n",
       "      <th></th>\n",
       "      <th>bgOperatorName</th>\n",
       "      <th>UploadKey</th>\n",
       "    </tr>\n",
       "  </thead>\n",
       "  <tbody>\n",
       "    <tr>\n",
       "      <td>82</td>\n",
       "      <td>devon energy production company l. p.</td>\n",
       "      <td>264</td>\n",
       "    </tr>\n",
       "    <tr>\n",
       "      <td>216</td>\n",
       "      <td>pdc energy</td>\n",
       "      <td>164</td>\n",
       "    </tr>\n",
       "    <tr>\n",
       "      <td>98</td>\n",
       "      <td>endeavor energy resources</td>\n",
       "      <td>161</td>\n",
       "    </tr>\n",
       "    <tr>\n",
       "      <td>67</td>\n",
       "      <td>conocophillips company/burlington resources</td>\n",
       "      <td>149</td>\n",
       "    </tr>\n",
       "    <tr>\n",
       "      <td>207</td>\n",
       "      <td>occidental oil and gas</td>\n",
       "      <td>125</td>\n",
       "    </tr>\n",
       "    <tr>\n",
       "      <td>65</td>\n",
       "      <td>cog operating llc</td>\n",
       "      <td>116</td>\n",
       "    </tr>\n",
       "    <tr>\n",
       "      <td>13</td>\n",
       "      <td>apache corporation</td>\n",
       "      <td>108</td>\n",
       "    </tr>\n",
       "    <tr>\n",
       "      <td>147</td>\n",
       "      <td>hunt oil company</td>\n",
       "      <td>106</td>\n",
       "    </tr>\n",
       "    <tr>\n",
       "      <td>203</td>\n",
       "      <td>noble energy, inc.</td>\n",
       "      <td>104</td>\n",
       "    </tr>\n",
       "    <tr>\n",
       "      <td>11</td>\n",
       "      <td>anadarko petroleum corporation</td>\n",
       "      <td>103</td>\n",
       "    </tr>\n",
       "    <tr>\n",
       "      <td>192</td>\n",
       "      <td>midstates petroleum company</td>\n",
       "      <td>89</td>\n",
       "    </tr>\n",
       "    <tr>\n",
       "      <td>264</td>\n",
       "      <td>shell oil company affiliate</td>\n",
       "      <td>89</td>\n",
       "    </tr>\n",
       "    <tr>\n",
       "      <td>28</td>\n",
       "      <td>bhp billiton petroleum</td>\n",
       "      <td>89</td>\n",
       "    </tr>\n",
       "    <tr>\n",
       "      <td>180</td>\n",
       "      <td>magnolia oil &amp; gas llc</td>\n",
       "      <td>75</td>\n",
       "    </tr>\n",
       "    <tr>\n",
       "      <td>58</td>\n",
       "      <td>chisholm oil and gas operating, llc</td>\n",
       "      <td>72</td>\n",
       "    </tr>\n",
       "  </tbody>\n",
       "</table>\n",
       "</div>"
      ],
      "text/plain": [
       "                                  bgOperatorName  UploadKey\n",
       "82         devon energy production company l. p.        264\n",
       "216                                   pdc energy        164\n",
       "98                     endeavor energy resources        161\n",
       "67   conocophillips company/burlington resources        149\n",
       "207                       occidental oil and gas        125\n",
       "65                             cog operating llc        116\n",
       "13                            apache corporation        108\n",
       "147                             hunt oil company        106\n",
       "203                           noble energy, inc.        104\n",
       "11                anadarko petroleum corporation        103\n",
       "192                  midstates petroleum company         89\n",
       "264                  shell oil company affiliate         89\n",
       "28                        bhp billiton petroleum         89\n",
       "180                       magnolia oil & gas llc         75\n",
       "58           chisholm oil and gas operating, llc         72"
      ]
     },
     "execution_count": 56,
     "metadata": {},
     "output_type": "execute_result"
    }
   ],
   "source": [
    "gb[gb.dup_event].groupby('bgOperatorName',as_index=False)['UploadKey'].count().sort_values('UploadKey',ascending=False).head(15)"
   ]
  },
  {
   "cell_type": "markdown",
   "metadata": {},
   "source": [
    "## ...  or Suppliers?"
   ]
  },
  {
   "cell_type": "code",
   "execution_count": 57,
   "metadata": {},
   "outputs": [
    {
     "data": {
      "text/html": [
       "<div>\n",
       "<style scoped>\n",
       "    .dataframe tbody tr th:only-of-type {\n",
       "        vertical-align: middle;\n",
       "    }\n",
       "\n",
       "    .dataframe tbody tr th {\n",
       "        vertical-align: top;\n",
       "    }\n",
       "\n",
       "    .dataframe thead th {\n",
       "        text-align: right;\n",
       "    }\n",
       "</style>\n",
       "<table border=\"1\" class=\"dataframe\">\n",
       "  <thead>\n",
       "    <tr style=\"text-align: right;\">\n",
       "      <th></th>\n",
       "      <th>bgSupplier</th>\n",
       "      <th>UploadKey</th>\n",
       "    </tr>\n",
       "  </thead>\n",
       "  <tbody>\n",
       "    <tr>\n",
       "      <td>132</td>\n",
       "      <td>no supplier reported</td>\n",
       "      <td>1014</td>\n",
       "    </tr>\n",
       "    <tr>\n",
       "      <td>0</td>\n",
       "      <td>_empty_entry_</td>\n",
       "      <td>440</td>\n",
       "    </tr>\n",
       "    <tr>\n",
       "      <td>95</td>\n",
       "      <td>halliburton</td>\n",
       "      <td>314</td>\n",
       "    </tr>\n",
       "    <tr>\n",
       "      <td>46</td>\n",
       "      <td>chemplex</td>\n",
       "      <td>281</td>\n",
       "    </tr>\n",
       "    <tr>\n",
       "      <td>20</td>\n",
       "      <td>baker hughes</td>\n",
       "      <td>210</td>\n",
       "    </tr>\n",
       "    <tr>\n",
       "      <td>169</td>\n",
       "      <td>schlumberger</td>\n",
       "      <td>198</td>\n",
       "    </tr>\n",
       "    <tr>\n",
       "      <td>137</td>\n",
       "      <td>operator</td>\n",
       "      <td>161</td>\n",
       "    </tr>\n",
       "    <tr>\n",
       "      <td>110</td>\n",
       "      <td>liberty</td>\n",
       "      <td>111</td>\n",
       "    </tr>\n",
       "    <tr>\n",
       "      <td>129</td>\n",
       "      <td>nabors completion and production services</td>\n",
       "      <td>89</td>\n",
       "    </tr>\n",
       "    <tr>\n",
       "      <td>75</td>\n",
       "      <td>economy polymers</td>\n",
       "      <td>75</td>\n",
       "    </tr>\n",
       "    <tr>\n",
       "      <td>91</td>\n",
       "      <td>ftsi</td>\n",
       "      <td>72</td>\n",
       "    </tr>\n",
       "    <tr>\n",
       "      <td>3</td>\n",
       "      <td>advanced stimulation technologies</td>\n",
       "      <td>69</td>\n",
       "    </tr>\n",
       "    <tr>\n",
       "      <td>88</td>\n",
       "      <td>frac specialists</td>\n",
       "      <td>64</td>\n",
       "    </tr>\n",
       "    <tr>\n",
       "      <td>190</td>\n",
       "      <td>universal</td>\n",
       "      <td>60</td>\n",
       "    </tr>\n",
       "    <tr>\n",
       "      <td>166</td>\n",
       "      <td>sanjel</td>\n",
       "      <td>55</td>\n",
       "    </tr>\n",
       "  </tbody>\n",
       "</table>\n",
       "</div>"
      ],
      "text/plain": [
       "                                    bgSupplier  UploadKey\n",
       "132                       no supplier reported       1014\n",
       "0                                _empty_entry_        440\n",
       "95                                 halliburton        314\n",
       "46                                    chemplex        281\n",
       "20                                baker hughes        210\n",
       "169                               schlumberger        198\n",
       "137                                   operator        161\n",
       "110                                    liberty        111\n",
       "129  nabors completion and production services         89\n",
       "75                            economy polymers         75\n",
       "91                                        ftsi         72\n",
       "3            advanced stimulation technologies         69\n",
       "88                            frac specialists         64\n",
       "190                                  universal         60\n",
       "166                                     sanjel         55"
      ]
     },
     "execution_count": 57,
     "metadata": {},
     "output_type": "execute_result"
    }
   ],
   "source": [
    "gb[gb.dup_event].groupby('bgSupplier',as_index=False)['UploadKey'].count().sort_values('UploadKey',ascending=False).head(15)"
   ]
  },
  {
   "cell_type": "markdown",
   "metadata": {},
   "source": [
    "## Possible improvements\n",
    "While removing all disclosures related to duplicated events is the simplest to implement, it may be possible to detect which versions are the most recently added (perhaps by the order of records in the raw data).  The technical manager of FracFocus, Mark Layne, indicated to me that there were no clear ways to determine the cause of the duplication.  "
   ]
  },
  {
   "cell_type": "markdown",
   "metadata": {},
   "source": [
    "# Filtering poorly identified chemical records"
   ]
  },
  {
   "cell_type": "markdown",
   "metadata": {},
   "source": [
    "## Background\n",
    "The primary identifier of a chemical material in the raw data is the CAS Registration Number. The FracFocus website points out the while an IngredientName is typically reported on each chemical record, such names are not as reliable as the CAS number.  There are often many synonyms for a given material and are often even spelled in several ways in the raw data.  CAS numbers, however, can be considered an authoritative identification and should apply across the entire data set.  Two examples are 7732-18-5 is water and 91-20-3 is naphthalene.\n",
    "\n",
    "While the CASNumber field in the raw data is a much more reliable identifier, I have found many issues with its use in FracFocus. These problems include poor formatting (CAS numbers have a strict required format), typographical errors and extraneous characters. For example, some records that are clearly water are mistakenly labled '7332-18-5'.  There are methods to detect and correct these problems (see Possible Improvements below), but for this proof-of-concept version I use a simple approach:  1) Clean the field of extraneous characters, 2) coerce the cleaned CAS number to the proper format (with some simple assumptions) and 3) check this against a catelog of known authoritative CAS numbers.  This catelog was created by running all unique CAS values in the data set through the online resource SciFinder (owned by Chemical Abstracts, the same company that registers CAS numbers).  SciFinder rejects any malformed CAS numbers but provides definitive identity to well-formed numbers.  \n",
    "\n",
    "So, for this version, a FracFocus CAS number must exactly match (after cleaning) a definitive CAS number to be included in the final data set.  These exact matches are given the authoritative number and names (as bgCAS and bgIngredientName). In the process of categorizing these CAS numbers, I also flag entries of other types:\n",
    "- proprietary \n",
    "- CAS like, but unrecognized\n",
    "- not CAS-like\n",
    "- duplicate record due within an event\n"
   ]
  },
  {
   "cell_type": "code",
   "execution_count": 67,
   "metadata": {},
   "outputs": [],
   "source": [
    "df['perfect_match'] = df.DQ_code.str.contains('P') # DQ_code of 'P' indicates a perfect match with an authoritative id\n",
    "df['proprietary'] = df.DQ_code.str.contains('3') # DQ_code of '3' indicates a match with a list of proprietay labels\n",
    "df['not_kept'] = ~((df.perfect_match)|(df.proprietary))\n"
   ]
  },
  {
   "cell_type": "code",
   "execution_count": 70,
   "metadata": {},
   "outputs": [
    {
     "data": {
      "image/png": "[encoded data removed]",
      "text/plain": [
       "<Figure size 432x288 with 1 Axes>"
      ]
     },
     "metadata": {
      "needs_background": "light"
     },
     "output_type": "display_data"
    }
   ],
   "source": [
    "gb2 = df[(df.year>2009)&(df.year<2020)].groupby('year',as_index=False)['perfect_match','proprietary','not_kept'].sum()\n",
    "gb2.plot.bar(x='year',y=['perfect_match','proprietary','not_kept'],stacked=True,title=\"Number of chemical records per year\");\n"
   ]
  },
  {
   "cell_type": "markdown",
   "metadata": {},
   "source": [
    "## Possible improvements\n",
    "CAS numbers that do not perfectly match the CAS authority can sometimes differ because of a simple typographical error. In a different version of this code, I developed error checking and correcting techniques that integrated both the CASNumber and the given ingredient name.  This involved a combination of automated checking and manual curation and significantly complicated the code.  For many chemical materials, this process improved inclusion by 1-5% and may be useful for specific chemicals of interest that have many labelling problems.  \n"
   ]
  },
  {
   "cell_type": "markdown",
   "metadata": {},
   "source": [
    "# Filtering events with poorly identified carriers"
   ]
  },
  {
   "cell_type": "markdown",
   "metadata": {},
   "source": [
    "## Background\n",
    "The chemical records that are identified by exact matches to the CAS authority give a broad picture of what chemicals are typically used in the industry, where they are used and by whom.  For these types of questions, simple 'presence/absence' may be enough.  However, more powerful yet are measures of the actual quantities of the chemicals.  The FracFocus data have hooks that allow such calculations and, although the pdf version doesn't provide it, the bulk download version has a MassIngredient field.  Unfortunately, this field reports zeros, or is inconsistent with other numbers or is unused in a large proportion of the data. \n",
    "\n",
    "To overcome this major weakness, I calculate mass using simple relationships among the total base water volume, the fraction of that water to the whole fracking mass, and the fraction of individual chemicals in the whole mass.  My calculations align with the reported mass (when available).  However, such calculations are only possible when the data meet the following criteria:\n",
    "- Water is the principle carrier (sometimes it is a petroleum product)\n",
    "- The carrier record can be reliably identified and there is only a single record in the event (I require that it is water, and >40% of the total fracking mass).\n",
    "- The fraction for the carrier is given (as given in PercentHFJob)\n",
    "- The fraction of the chemical of interest is given.  (also PercentHFJob)\n"
   ]
  },
  {
   "cell_type": "code",
   "execution_count": 72,
   "metadata": {},
   "outputs": [
    {
     "data": {
      "image/png": "[encoded data removed]",
      "text/plain": [
       "<Figure size 432x288 with 1 Axes>"
      ]
     },
     "metadata": {
      "needs_background": "light"
     },
     "output_type": "display_data"
    }
   ],
   "source": [
    "df['mass_avail'] = df.DQ_code.str.contains('M')\n",
    "df['presence_avail'] = (df.DQ_code.str.contains('A'))&(~df.mass_avail)\n",
    "df['not_avail'] = ~(df.mass_avail|df.presence_avail)\n",
    "gb2 = df[(df.year>2009)&(df.year<2020)].groupby('year',as_index=False)['mass_avail','presence_avail','not_avail'].sum()\n",
    "gb2.plot.bar(x='year',y=['mass_avail','presence_avail','not_avail'],stacked=True,title=\"Number of chemical records per year\");\n"
   ]
  },
  {
   "cell_type": "markdown",
   "metadata": {},
   "source": [
    "Note that included in the mass_avail and presence_avail categories are records that are identified as 'Proprietary'.\n"
   ]
  },
  {
   "cell_type": "markdown",
   "metadata": {},
   "source": [
    "## Possible improvements\n"
   ]
  }
 ],
 "metadata": {
  "kernelspec": {
   "display_name": "Python 3",
   "language": "python",
   "name": "python3"
  },
  "language_info": {
   "codemirror_mode": {
    "name": "ipython",
    "version": 3
   },
   "file_extension": ".py",
   "mimetype": "text/x-python",
   "name": "python",
   "nbconvert_exporter": "python",
   "pygments_lexer": "ipython3",
   "version": "3.7.4"
  }
 },
 "nbformat": 4,
 "nbformat_minor": 2
}
